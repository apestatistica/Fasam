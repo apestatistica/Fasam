{
  "nbformat": 4,
  "nbformat_minor": 0,
  "metadata": {
    "colab": {
      "name": "Exercicio_Ana_Paula.ipynb",
      "version": "0.3.2",
      "provenance": [],
      "collapsed_sections": [
        "13JoftWqcvhY",
        "1ERHaTqecvid"
      ],
      "include_colab_link": true
    },
    "language_info": {
      "codemirror_mode": {
        "name": "ipython",
        "version": 3
      },
      "file_extension": ".py",
      "mimetype": "text/x-python",
      "name": "python",
      "nbconvert_exporter": "python",
      "pygments_lexer": "ipython3",
      "version": "3.7.1"
    },
    "kernelspec": {
      "display_name": "Python 3",
      "language": "python",
      "name": "python3"
    }
  },
  "cells": [
    {
      "cell_type": "markdown",
      "metadata": {
        "id": "view-in-github",
        "colab_type": "text"
      },
      "source": [
        "<a href=\"https://colab.research.google.com/github/apestatistica/Fasam/blob/master/Exercicio_%20Algoritmos_Supervisionados.ipynb\" target=\"_parent\"><img src=\"https://colab.research.google.com/assets/colab-badge.svg\" alt=\"Open In Colab\"/></a>"
      ]
    },
    {
      "metadata": {
        "colab_type": "text",
        "id": "a88y9GcFcvgh"
      },
      "cell_type": "markdown",
      "source": [
        "![](https://nextcomm.com.br/wp-content/uploads/freshizer/cafe49ac037bb39fe104b3bf15177701_gestao_telecom2-1156-577-c.jpg) \n",
        "![](http://redeplanetanet.com.br/mkfiles/image/sac_01.png) \n",
        "\n",
        "Somos o setor de suporte de uma empresa de Telecom. Recebemos centenas de mensagens pelo nosso canal de atendimento no CHAT, essas mensagens são lidas e posteriomente encaminhadas para o setor responsável.\n",
        "\n",
        "Esse processo está ficando lento e precisamos otimizar a dicição de qual setor será o responsável pelo atendimento. Nosso centro de tecnologia sugeriu utilizar Inteligência Artificial para classificar as mensagens automaticamente. \n",
        "\n",
        "**Acha que consegue?**\n",
        "\n",
        "* Crie um modelo que melhor classifique os textos\n",
        "* Otimize o modelo usando diferentes parametrizações\n",
        "* Escolha um setor e descreva quais features estão associadas a esse setor nos chamados"
      ]
    },
    {
      "metadata": {
        "colab_type": "code",
        "id": "36TORQtKdtMg",
        "outputId": "30aed5d4-ce66-425b-ecc9-e97624270058",
        "colab": {
          "base_uri": "https://localhost:8080/",
          "height": 204
        }
      },
      "cell_type": "code",
      "source": [
        "! wget https://storage.googleapis.com/ms_geral/fasam_algoritmo_supervisionado/taggin/util.py"
      ],
      "execution_count": 34,
      "outputs": [
        {
          "output_type": "stream",
          "text": [
            "--2019-04-27 17:00:57--  https://storage.googleapis.com/ms_geral/fasam_algoritmo_supervisionado/taggin/util.py\n",
            "Resolving storage.googleapis.com (storage.googleapis.com)... 74.125.141.128, 2607:f8b0:400c:c06::80\n",
            "Connecting to storage.googleapis.com (storage.googleapis.com)|74.125.141.128|:443... connected.\n",
            "HTTP request sent, awaiting response... 200 OK\n",
            "Length: 3020 (2.9K) [application/octet-stream]\n",
            "Saving to: ‘util.py’\n",
            "\n",
            "\rutil.py               0%[                    ]       0  --.-KB/s               \rutil.py             100%[===================>]   2.95K  --.-KB/s    in 0s      \n",
            "\n",
            "2019-04-27 17:00:57 (35.2 MB/s) - ‘util.py’ saved [3020/3020]\n",
            "\n"
          ],
          "name": "stdout"
        }
      ]
    },
    {
      "metadata": {
        "colab_type": "code",
        "id": "Umk9KxITcvgk",
        "colab": {}
      },
      "cell_type": "code",
      "source": [
        "import pandas as pd\n",
        "import matplotlib\n",
        "import numpy as np\n",
        "import matplotlib.pyplot as plt\n",
        "import warnings\n",
        "\n",
        "from util import *\n",
        "\n",
        "warnings.filterwarnings('ignore')\n",
        "np.set_printoptions(precision=2)\n",
        "%matplotlib inline "
      ],
      "execution_count": 0,
      "outputs": []
    },
    {
      "metadata": {
        "colab_type": "text",
        "id": "A8D3eKEdcvgq"
      },
      "cell_type": "markdown",
      "source": [
        "## Problema\n",
        "\n",
        "Problema de classificação de texto\n",
        "\n",
        "![](https://i.ytimg.com/vi/uJpU0rYUokM/maxresdefault.jpg) "
      ]
    },
    {
      "metadata": {
        "colab_type": "text",
        "id": "r-KV-ouscvgr"
      },
      "cell_type": "markdown",
      "source": [
        "## Dataset"
      ]
    },
    {
      "metadata": {
        "colab_type": "code",
        "id": "WItTXLRRcvgs",
        "outputId": "2efd5683-7d5f-4141-d704-fd80bdd998d3",
        "colab": {
          "base_uri": "https://localhost:8080/",
          "height": 421
        }
      },
      "cell_type": "code",
      "source": [
        "df = pd.read_csv('https://storage.googleapis.com/ms_geral/fasam_algoritmo_supervisionado/taggin/df_train.csv')\n",
        "\n",
        "df.head(12)"
      ],
      "execution_count": 0,
      "outputs": [
        {
          "output_type": "execute_result",
          "data": {
            "text/html": [
              "<div>\n",
              "<style scoped>\n",
              "    .dataframe tbody tr th:only-of-type {\n",
              "        vertical-align: middle;\n",
              "    }\n",
              "\n",
              "    .dataframe tbody tr th {\n",
              "        vertical-align: top;\n",
              "    }\n",
              "\n",
              "    .dataframe thead th {\n",
              "        text-align: right;\n",
              "    }\n",
              "</style>\n",
              "<table border=\"1\" class=\"dataframe\">\n",
              "  <thead>\n",
              "    <tr style=\"text-align: right;\">\n",
              "      <th></th>\n",
              "      <th>frase</th>\n",
              "      <th>tag</th>\n",
              "    </tr>\n",
              "  </thead>\n",
              "  <tbody>\n",
              "    <tr>\n",
              "      <th>0</th>\n",
              "      <td>é que minha reparo na linha</td>\n",
              "      <td>reparar-linha</td>\n",
              "    </tr>\n",
              "    <tr>\n",
              "      <th>1</th>\n",
              "      <td>meu telefone não disca</td>\n",
              "      <td>reparar-linha</td>\n",
              "    </tr>\n",
              "    <tr>\n",
              "      <th>2</th>\n",
              "      <td>é tinha um técnico ajudar agendado pra vir vis...</td>\n",
              "      <td>vago-visitaTecnica</td>\n",
              "    </tr>\n",
              "    <tr>\n",
              "      <th>3</th>\n",
              "      <td>eu quero solicitação de uma linha</td>\n",
              "      <td>comprar-linha</td>\n",
              "    </tr>\n",
              "    <tr>\n",
              "      <th>4</th>\n",
              "      <td>eu quero alterar o endereço de pra enviar minh...</td>\n",
              "      <td>mudar-endereco</td>\n",
              "    </tr>\n",
              "    <tr>\n",
              "      <th>5</th>\n",
              "      <td>eu quero mudar o endereço</td>\n",
              "      <td>mudar-endereco</td>\n",
              "    </tr>\n",
              "    <tr>\n",
              "      <th>6</th>\n",
              "      <td>quero adquirir uma linha produto</td>\n",
              "      <td>comprar-linha</td>\n",
              "    </tr>\n",
              "    <tr>\n",
              "      <th>7</th>\n",
              "      <td>eu quero uma nova linha</td>\n",
              "      <td>comprar-linha</td>\n",
              "    </tr>\n",
              "    <tr>\n",
              "      <th>8</th>\n",
              "      <td>eu preciso pagar a minha conta eu quero saber ...</td>\n",
              "      <td>pagar-conta</td>\n",
              "    </tr>\n",
              "    <tr>\n",
              "      <th>9</th>\n",
              "      <td>eu quero é transferir o número dado meu telefo...</td>\n",
              "      <td>mudar-endereco</td>\n",
              "    </tr>\n",
              "    <tr>\n",
              "      <th>10</th>\n",
              "      <td>eu quero saber quando que o técnico vem pra in...</td>\n",
              "      <td>vago-visitaTecnica</td>\n",
              "    </tr>\n",
              "    <tr>\n",
              "      <th>11</th>\n",
              "      <td>cancelar o serviço de caixa postal</td>\n",
              "      <td>cancelar-servicos</td>\n",
              "    </tr>\n",
              "  </tbody>\n",
              "</table>\n",
              "</div>"
            ],
            "text/plain": [
              "                                                frase                 tag\n",
              "0                         é que minha reparo na linha       reparar-linha\n",
              "1                              meu telefone não disca       reparar-linha\n",
              "2   é tinha um técnico ajudar agendado pra vir vis...  vago-visitaTecnica\n",
              "3                   eu quero solicitação de uma linha       comprar-linha\n",
              "4   eu quero alterar o endereço de pra enviar minh...      mudar-endereco\n",
              "5                           eu quero mudar o endereço      mudar-endereco\n",
              "6                    quero adquirir uma linha produto       comprar-linha\n",
              "7                             eu quero uma nova linha       comprar-linha\n",
              "8   eu preciso pagar a minha conta eu quero saber ...         pagar-conta\n",
              "9   eu quero é transferir o número dado meu telefo...      mudar-endereco\n",
              "10  eu quero saber quando que o técnico vem pra in...  vago-visitaTecnica\n",
              "11                 cancelar o serviço de caixa postal   cancelar-servicos"
            ]
          },
          "metadata": {
            "tags": []
          },
          "execution_count": 2
        }
      ]
    },
    {
      "metadata": {
        "colab_type": "code",
        "id": "lxdqlSIQcvgy",
        "outputId": "0f90c469-78fd-4823-9b3c-bdf30e273108",
        "colab": {
          "base_uri": "https://localhost:8080/",
          "height": 34
        }
      },
      "cell_type": "code",
      "source": [
        "df.shape"
      ],
      "execution_count": 0,
      "outputs": [
        {
          "output_type": "execute_result",
          "data": {
            "text/plain": [
              "(2623, 2)"
            ]
          },
          "metadata": {
            "tags": []
          },
          "execution_count": 3
        }
      ]
    },
    {
      "metadata": {
        "colab_type": "code",
        "id": "z-UZQv7Ccvg4",
        "outputId": "80b131c7-ea41-4591-8175-4b7b3aa1012e",
        "colab": {
          "base_uri": "https://localhost:8080/",
          "height": 286
        }
      },
      "cell_type": "code",
      "source": [
        "# Plot total por setor\n",
        "df.groupby('tag').count().sort_values('frase').plot.barh()"
      ],
      "execution_count": 0,
      "outputs": [
        {
          "output_type": "execute_result",
          "data": {
            "text/plain": [
              "<matplotlib.axes._subplots.AxesSubplot at 0x7f8e5a625fd0>"
            ]
          },
          "metadata": {
            "tags": []
          },
          "execution_count": 4
        },
        {
          "output_type": "display_data",
          "data": {
            "image/png": "[encoded data removed]",
            "text/plain": [
              "<Figure size 432x288 with 1 Axes>"
            ]
          },
          "metadata": {
            "tags": []
          }
        }
      ]
    },
    {
      "metadata": {
        "colab_type": "text",
        "id": "HWBBcT-0cvg8"
      },
      "cell_type": "markdown",
      "source": [
        "## Preparação dos Dados"
      ]
    },
    {
      "metadata": {
        "colab_type": "text",
        "id": "rsjJ1R2Qcvg9"
      },
      "cell_type": "markdown",
      "source": [
        "### Split DataSet"
      ]
    },
    {
      "metadata": {
        "colab_type": "code",
        "id": "GefX6aMKcvg-",
        "colab": {}
      },
      "cell_type": "code",
      "source": [
        "from sklearn.model_selection import train_test_split\n",
        "\n",
        "X_train, X_test, \\\n",
        "    y_train, y_test = train_test_split(df.frase, df.tag, \n",
        "                                           test_size=0.20, \n",
        "                                           random_state=42)"
      ],
      "execution_count": 0,
      "outputs": []
    },
    {
      "metadata": {
        "colab_type": "code",
        "id": "jK0DF8fdcvhB",
        "outputId": "fb3c8c10-76ec-437d-8ed0-f6e30260f248",
        "colab": {
          "base_uri": "https://localhost:8080/",
          "height": 34
        }
      },
      "cell_type": "code",
      "source": [
        "print(X_train.shape, X_test.shape)"
      ],
      "execution_count": 0,
      "outputs": [
        {
          "output_type": "stream",
          "text": [
            "(2098,) (525,)\n"
          ],
          "name": "stdout"
        }
      ]
    },
    {
      "metadata": {
        "colab_type": "text",
        "id": "qLx2IfB5cvhG"
      },
      "cell_type": "markdown",
      "source": [
        "### Extração de *Features*\n",
        "\n",
        "* https://scikit-learn.org/stable/modules/feature_extraction.html"
      ]
    },
    {
      "metadata": {
        "colab_type": "code",
        "id": "j7YE723YcvhH",
        "outputId": "842e52f3-7d92-4b0e-85ba-0f6cd3ba244f",
        "colab": {
          "base_uri": "https://localhost:8080/",
          "height": 34
        }
      },
      "cell_type": "code",
      "source": [
        "sample_text = X_train[3]\n",
        "sample_text\n",
        "\n"
      ],
      "execution_count": 0,
      "outputs": [
        {
          "output_type": "execute_result",
          "data": {
            "text/plain": [
              "'eu quero solicitação de uma linha'"
            ]
          },
          "metadata": {
            "tags": []
          },
          "execution_count": 7
        }
      ]
    },
    {
      "metadata": {
        "id": "CAqz0np_DP4o",
        "colab_type": "code",
        "colab": {
          "base_uri": "https://localhost:8080/",
          "height": 34
        },
        "outputId": "855a8539-3846-4b80-d2d5-9dd7167fbb93"
      },
      "cell_type": "code",
      "source": [
        "sample_text2 = X_train[2]\n",
        "sample_text2"
      ],
      "execution_count": 0,
      "outputs": [
        {
          "output_type": "execute_result",
          "data": {
            "text/plain": [
              "'é tinha um técnico ajudar agendado pra vir visita pra ver o internet e não veio'"
            ]
          },
          "metadata": {
            "tags": []
          },
          "execution_count": 8
        }
      ]
    },
    {
      "metadata": {
        "colab_type": "text",
        "id": "8BgTmhlycvhL"
      },
      "cell_type": "markdown",
      "source": [
        "#### Contagem de Palavras (BoW)\n",
        "\n",
        "* https://scikit-learn.org/stable/modules/generated/sklearn.feature_extraction.text.CountVectorizer.html#sklearn.feature_extraction.text.CountVectorizer\n",
        "\n",
        "Utiliza de contagem de palavras como vetor de features para indicar a importância dessa palavra no contexto."
      ]
    },
    {
      "metadata": {
        "colab_type": "code",
        "id": "oDN8vM20cvhM",
        "outputId": "74619de0-04c7-493c-d45c-c38f7d7203cb",
        "colab": {
          "base_uri": "https://localhost:8080/",
          "height": 156
        }
      },
      "cell_type": "code",
      "source": [
        "from sklearn.feature_extraction.text import CountVectorizer\n",
        "\n",
        "vectorizer = CountVectorizer(max_features=10, ngram_range=(1,1), stop_words=['não', 'de','uma', 'na','meu', 'minha',\"que\",\"porque\",\"fazer\",\"quero\",\"do\",\"faço\",\"saber\",\"um\",\"com\",\"está\",\"tá\",\"da\", 'para', 'tinha',\"como\",\"eu\",\"pra\",\"se\"])\n",
        "vectorizer.fit(X_train)"
      ],
      "execution_count": 0,
      "outputs": [
        {
          "output_type": "execute_result",
          "data": {
            "text/plain": [
              "CountVectorizer(analyzer='word', binary=False, decode_error='strict',\n",
              "        dtype=<class 'numpy.int64'>, encoding='utf-8', input='content',\n",
              "        lowercase=True, max_df=1.0, max_features=10, min_df=1,\n",
              "        ngram_range=(1, 1), preprocessor=None,\n",
              "        stop_words=['não', 'de', 'uma', 'na', 'meu', 'minha', 'que', 'porque', 'fazer', 'quero', 'do', 'faço', 'saber', 'um', 'com', 'está', 'tá', 'da', 'para', 'tinha', 'como', 'eu', 'pra', 'se'],\n",
              "        strip_accents=None, token_pattern='(?u)\\\\b\\\\w\\\\w+\\\\b',\n",
              "        tokenizer=None, vocabulary=None)"
            ]
          },
          "metadata": {
            "tags": []
          },
          "execution_count": 9
        }
      ]
    },
    {
      "metadata": {
        "colab_type": "code",
        "id": "Hbky_je3cvhQ",
        "outputId": "4fad5b0c-3e95-4dc2-82fa-b6679e01c23f",
        "colab": {
          "base_uri": "https://localhost:8080/",
          "height": 34
        }
      },
      "cell_type": "code",
      "source": [
        "# Cada Feature é uma palávra \n",
        "features = [x[0] for x in sorted(vectorizer.vocabulary_.items(), key=lambda kv: kv[1])]\n",
        "print(features)"
      ],
      "execution_count": 0,
      "outputs": [
        {
          "output_type": "stream",
          "text": [
            "['cancelar', 'conta', 'endereço', 'ligação', 'linha', 'pagar', 'produto', 'reparo', 'telefone', 'telefônica']\n"
          ],
          "name": "stdout"
        }
      ]
    },
    {
      "metadata": {
        "colab_type": "code",
        "id": "mngksdujcvhU",
        "outputId": "5b8843af-ed76-4336-afac-7e7dfe8ba863",
        "colab": {
          "base_uri": "https://localhost:8080/",
          "height": 68
        }
      },
      "cell_type": "code",
      "source": [
        "vector = vectorizer.transform([sample_text])\n",
        "\n",
        "print(\"Texto:\",    sample_text)\n",
        "print(\"Features:\", features)\n",
        "print(\"Valores:\",  vector.toarray()[0])"
      ],
      "execution_count": 0,
      "outputs": [
        {
          "output_type": "stream",
          "text": [
            "Texto: eu quero solicitação de uma linha\n",
            "Features: ['cancelar', 'conta', 'endereço', 'ligação', 'linha', 'pagar', 'produto', 'reparo', 'telefone', 'telefônica']\n",
            "Valores: [0 0 0 0 1 0 0 0 0 0]\n"
          ],
          "name": "stdout"
        }
      ]
    },
    {
      "metadata": {
        "id": "CSQZ_-lkDYpu",
        "colab_type": "code",
        "colab": {
          "base_uri": "https://localhost:8080/",
          "height": 68
        },
        "outputId": "1068adc6-cd75-48e4-a725-590c4e39c620"
      },
      "cell_type": "code",
      "source": [
        "vector = vectorizer.transform([sample_text2])\n",
        "\n",
        "print(\"Texto:\",    sample_text2)\n",
        "print(\"Features:\", features)\n",
        "print(\"Valores:\",  vector.toarray()[0])"
      ],
      "execution_count": 0,
      "outputs": [
        {
          "output_type": "stream",
          "text": [
            "Texto: é tinha um técnico ajudar agendado pra vir visita pra ver o internet e não veio\n",
            "Features: ['cancelar', 'conta', 'endereço', 'ligação', 'linha', 'pagar', 'produto', 'reparo', 'telefone', 'telefônica']\n",
            "Valores: [0 0 0 0 0 0 0 0 0 0]\n"
          ],
          "name": "stdout"
        }
      ]
    },
    {
      "metadata": {
        "colab_type": "text",
        "id": "13JoftWqcvhY"
      },
      "cell_type": "markdown",
      "source": [
        "#### TF-IDF"
      ]
    },
    {
      "metadata": {
        "colab_type": "text",
        "id": "qRZcUB5rcvhZ"
      },
      "cell_type": "markdown",
      "source": [
        "* https://scikit-learn.org/stable/modules/generated/sklearn.feature_extraction.text.TfidfVectorizer.html\n",
        "\n",
        "O valor tf–idf (abreviação do inglês term frequency–inverse document frequency, que significa frequência do termo–inverso da frequência nos documentos), é uma medida estatística que tem o intuito de indicar a importância de uma palavra de um documento em relação a uma coleção de documentos ou em um corpus linguístico."
      ]
    },
    {
      "metadata": {
        "colab_type": "code",
        "id": "WlUiKe3_cvhb",
        "outputId": "3f951990-25f6-4f4f-fcb8-c7b4fafb3b62",
        "colab": {
          "base_uri": "https://localhost:8080/",
          "height": 0
        }
      },
      "cell_type": "code",
      "source": [
        "from sklearn.feature_extraction.text import TfidfVectorizer\n",
        "from sklearn.feature_extraction.text import TfidfTransformer\n",
        "\n",
        "vectorizer = TfidfVectorizer(max_features=10)\n",
        "vectorizer.fit(df.frase)"
      ],
      "execution_count": 0,
      "outputs": [
        {
          "output_type": "execute_result",
          "data": {
            "text/plain": [
              "TfidfVectorizer(analyzer='word', binary=False, decode_error='strict',\n",
              "        dtype=<class 'numpy.float64'>, encoding='utf-8', input='content',\n",
              "        lowercase=True, max_df=1.0, max_features=10, min_df=1,\n",
              "        ngram_range=(1, 1), norm='l2', preprocessor=None, smooth_idf=True,\n",
              "        stop_words=None, strip_accents=None, sublinear_tf=False,\n",
              "        token_pattern='(?u)\\\\b\\\\w\\\\w+\\\\b', tokenizer=None, use_idf=True,\n",
              "        vocabulary=None)"
            ]
          },
          "metadata": {
            "tags": []
          },
          "execution_count": 13
        }
      ]
    },
    {
      "metadata": {
        "colab_type": "code",
        "id": "cWR26xlocvhf",
        "outputId": "23e0b6a0-11e5-4dfd-896d-ad393c48ee60",
        "colab": {
          "base_uri": "https://localhost:8080/",
          "height": 0
        }
      },
      "cell_type": "code",
      "source": [
        "# Cada Feature é uma palavra \n",
        "features = [x[0] for x in sorted(vectorizer.vocabulary_.items(), key=lambda kv: kv[1])]\n",
        "print(features)"
      ],
      "execution_count": 0,
      "outputs": [
        {
          "output_type": "stream",
          "text": [
            "['de', 'eu', 'linha', 'minha', 'não', 'que', 'quero', 'telefone', 'telefônica', 'uma']\n"
          ],
          "name": "stdout"
        }
      ]
    },
    {
      "metadata": {
        "colab_type": "code",
        "id": "t_kvwqYGcvhl",
        "outputId": "e616ee54-fc63-4d76-9275-c09821d8b09e",
        "colab": {
          "base_uri": "https://localhost:8080/",
          "height": 0
        }
      },
      "cell_type": "code",
      "source": [
        "vector = vectorizer.transform([sample_text])\n",
        "\n",
        "print(\"Texto:\",    sample_text)\n",
        "print(\"Features:\", features)\n",
        "print(\"Valores:\",  vector.toarray()[0])"
      ],
      "execution_count": 0,
      "outputs": [
        {
          "output_type": "stream",
          "text": [
            "Texto: eu quero solicitação de uma linha\n",
            "Features: ['de', 'eu', 'linha', 'minha', 'não', 'que', 'quero', 'telefone', 'telefônica', 'uma']\n",
            "Valores: [0.43717035 0.48128542 0.35084229 0.         0.         0.\n",
            " 0.43901832 0.         0.         0.51129154]\n"
          ],
          "name": "stdout"
        }
      ]
    },
    {
      "metadata": {
        "colab_type": "text",
        "id": "6I48zF9Fcvhq"
      },
      "cell_type": "markdown",
      "source": [
        "### Modelo"
      ]
    },
    {
      "metadata": {
        "colab_type": "code",
        "id": "FvgzzJYkcvhs",
        "colab": {}
      },
      "cell_type": "code",
      "source": [
        "# Pipeline\n",
        "from sklearn.pipeline import Pipeline\n",
        "\n",
        "# Classificadores\n",
        "from sklearn.ensemble import  RandomForestClassifier\n",
        "from sklearn.neighbors import KNeighborsClassifier\n",
        "from sklearn.tree import      DecisionTreeClassifier\n",
        "from sklearn.linear_model import LogisticRegression"
      ],
      "execution_count": 0,
      "outputs": []
    },
    {
      "metadata": {
        "colab_type": "code",
        "id": "rUBsDPQbcvhv",
        "outputId": "e9d18097-a55e-4e90-a6f5-5719fd5b15ba",
        "colab": {
          "base_uri": "https://localhost:8080/",
          "height": 136
        }
      },
      "cell_type": "code",
      "source": [
        "# Pipeline Model\n",
        "model = Pipeline(steps = [\n",
        "                    ('tfidf', TfidfVectorizer()),\n",
        "                    ('clf',   RandomForestClassifier(criterion='entropy')),])\n",
        "model"
      ],
      "execution_count": 0,
      "outputs": [
        {
          "output_type": "execute_result",
          "data": {
            "text/plain": [
              "Pipeline(memory=None,\n",
              "     steps=[('tfidf', TfidfVectorizer(analyzer='word', binary=False, decode_error='strict',\n",
              "        dtype=<class 'numpy.float64'>, encoding='utf-8', input='content',\n",
              "        lowercase=True, max_df=1.0, max_features=None, min_df=1,\n",
              "        ngram_range=(1, 1), norm='l2', preprocessor=None, smooth_idf=True,...obs=None,\n",
              "            oob_score=False, random_state=None, verbose=0,\n",
              "            warm_start=False))])"
            ]
          },
          "metadata": {
            "tags": []
          },
          "execution_count": 17
        }
      ]
    },
    {
      "metadata": {
        "colab_type": "text",
        "id": "IpXxA8RDcvhy"
      },
      "cell_type": "markdown",
      "source": [
        "## Treinamento"
      ]
    },
    {
      "metadata": {
        "colab_type": "code",
        "id": "mdg_CetScvhz",
        "colab": {}
      },
      "cell_type": "code",
      "source": [
        "from sklearn.model_selection import GridSearchCV"
      ],
      "execution_count": 0,
      "outputs": []
    },
    {
      "metadata": {
        "colab_type": "text",
        "id": "nAXdsRSccvh4"
      },
      "cell_type": "markdown",
      "source": [
        "* https://scikit-learn.org/stable/modules/generated/sklearn.model_selection.GridSearchCV.html\n",
        "* https://scikit-learn.org/stable/modules/generated/sklearn.model_selection.cross_validate.html"
      ]
    },
    {
      "metadata": {
        "colab_type": "text",
        "id": "BVQDaIJgcvh5"
      },
      "cell_type": "markdown",
      "source": [
        "Gride de parametros que devem ser testados no modelo"
      ]
    },
    {
      "metadata": {
        "colab_type": "code",
        "id": "t83PLY8Ccvh5",
        "colab": {}
      },
      "cell_type": "code",
      "source": [
        "parameters = {\n",
        "    'tfidf__max_features': [1000], \n",
        "    'clf__max_depth': [1,  2,  4,  8, 16, 32, 1000],\n",
        "    'clf__n_estimators': [1, 2, 4, 8, 16]\n",
        "}"
      ],
      "execution_count": 0,
      "outputs": []
    },
    {
      "metadata": {
        "colab_type": "text",
        "id": "6jfeIdPQcvh9"
      },
      "cell_type": "markdown",
      "source": [
        "Executa a busca de parametros por GridSearch"
      ]
    },
    {
      "metadata": {
        "colab_type": "code",
        "id": "l7FcyHVIcvh-",
        "outputId": "fb807b2a-56a3-4145-8b38-697b8ab169ea",
        "colab": {
          "base_uri": "https://localhost:8080/",
          "height": 34
        }
      },
      "cell_type": "code",
      "source": [
        "clf = GridSearchCV(model, parameters, cv=3, n_jobs=-1)\n",
        "clf.fit(X_train, y_train)\n",
        "clf.best_params_"
      ],
      "execution_count": 54,
      "outputs": [
        {
          "output_type": "execute_result",
          "data": {
            "text/plain": [
              "{'clf__max_depth': 1000, 'clf__n_estimators': 16, 'tfidf__max_features': 1000}"
            ]
          },
          "metadata": {
            "tags": []
          },
          "execution_count": 54
        }
      ]
    },
    {
      "metadata": {
        "colab_type": "text",
        "id": "svrvmC_QcviE"
      },
      "cell_type": "markdown",
      "source": [
        "Escolhe o melhor modelo treinado entre os testados pelas parametrizações"
      ]
    },
    {
      "metadata": {
        "colab_type": "code",
        "id": "436C3gkZcviE",
        "outputId": "b88dc4cf-c099-43ba-b7fa-9e79cef17148",
        "colab": {
          "base_uri": "https://localhost:8080/",
          "height": 136
        }
      },
      "cell_type": "code",
      "source": [
        "model = clf.best_estimator_\n",
        "model"
      ],
      "execution_count": 55,
      "outputs": [
        {
          "output_type": "execute_result",
          "data": {
            "text/plain": [
              "Pipeline(memory=None,\n",
              "     steps=[('tfidf', TfidfVectorizer(analyzer='word', binary=False, decode_error='strict',\n",
              "        dtype=<class 'numpy.float64'>, encoding='utf-8', input='content',\n",
              "        lowercase=True, max_df=1.0, max_features=1000, min_df=1,\n",
              "        ngram_range=(1, 1), norm='l2', preprocessor=None, smooth_idf=True,...obs=None,\n",
              "            oob_score=False, random_state=None, verbose=0,\n",
              "            warm_start=False))])"
            ]
          },
          "metadata": {
            "tags": []
          },
          "execution_count": 55
        }
      ]
    },
    {
      "metadata": {
        "colab_type": "text",
        "id": "qb7Yb4mhcviJ"
      },
      "cell_type": "markdown",
      "source": [
        "## Avaliação do modelo"
      ]
    },
    {
      "metadata": {
        "colab_type": "code",
        "id": "MZD2Y7VmcviK",
        "colab": {}
      },
      "cell_type": "code",
      "source": [
        "from sklearn import tree\n",
        "\n",
        "# Tree Model\n",
        "estimator     = model.steps[-1][1]\n",
        "\n",
        "# Vectorize Words Features\n",
        "vectorizer    = model.steps[0][1]\n",
        "feature_names = [x[0] for x in sorted(vectorizer.vocabulary_.items(), key=lambda kv: kv[1])]\n",
        "\n",
        "# Class \n",
        "class_names   = np.unique(y_train)\n",
        "\n",
        "# plot\n",
        "#plot_tree(estimator, feature_names, class_names)"
      ],
      "execution_count": 0,
      "outputs": []
    },
    {
      "metadata": {
        "colab_type": "code",
        "id": "Lobaf2TgcviN",
        "outputId": "ccbe346b-8c3f-4afa-9bcc-b47bb6de8447",
        "colab": {
          "base_uri": "https://localhost:8080/",
          "height": 1969
        }
      },
      "cell_type": "code",
      "source": [
        "df_importance = feature_importance(estimator, feature_names)\n",
        "df_importance"
      ],
      "execution_count": 57,
      "outputs": [
        {
          "output_type": "execute_result",
          "data": {
            "text/html": [
              "<div>\n",
              "<style scoped>\n",
              "    .dataframe tbody tr th:only-of-type {\n",
              "        vertical-align: middle;\n",
              "    }\n",
              "\n",
              "    .dataframe tbody tr th {\n",
              "        vertical-align: top;\n",
              "    }\n",
              "\n",
              "    .dataframe thead th {\n",
              "        text-align: right;\n",
              "    }\n",
              "</style>\n",
              "<table border=\"1\" class=\"dataframe\">\n",
              "  <thead>\n",
              "    <tr style=\"text-align: right;\">\n",
              "      <th></th>\n",
              "      <th>feature</th>\n",
              "      <th>importance</th>\n",
              "    </tr>\n",
              "  </thead>\n",
              "  <tbody>\n",
              "    <tr>\n",
              "      <th>343</th>\n",
              "      <td>endereço</td>\n",
              "      <td>9.950727e-02</td>\n",
              "    </tr>\n",
              "    <tr>\n",
              "      <th>222</th>\n",
              "      <td>conta</td>\n",
              "      <td>7.737364e-02</td>\n",
              "    </tr>\n",
              "    <tr>\n",
              "      <th>494</th>\n",
              "      <td>linha</td>\n",
              "      <td>5.727825e-02</td>\n",
              "    </tr>\n",
              "    <tr>\n",
              "      <th>141</th>\n",
              "      <td>cancelar</td>\n",
              "      <td>5.241463e-02</td>\n",
              "    </tr>\n",
              "    <tr>\n",
              "      <th>899</th>\n",
              "      <td>uma</td>\n",
              "      <td>3.620010e-02</td>\n",
              "    </tr>\n",
              "    <tr>\n",
              "      <th>841</th>\n",
              "      <td>telefone</td>\n",
              "      <td>3.457216e-02</td>\n",
              "    </tr>\n",
              "    <tr>\n",
              "      <th>612</th>\n",
              "      <td>pagar</td>\n",
              "      <td>2.729175e-02</td>\n",
              "    </tr>\n",
              "    <tr>\n",
              "      <th>255</th>\n",
              "      <td>de</td>\n",
              "      <td>2.665027e-02</td>\n",
              "    </tr>\n",
              "    <tr>\n",
              "      <th>579</th>\n",
              "      <td>não</td>\n",
              "      <td>2.280409e-02</td>\n",
              "    </tr>\n",
              "    <tr>\n",
              "      <th>715</th>\n",
              "      <td>quero</td>\n",
              "      <td>1.844360e-02</td>\n",
              "    </tr>\n",
              "    <tr>\n",
              "      <th>756</th>\n",
              "      <td>reparo</td>\n",
              "      <td>1.690485e-02</td>\n",
              "    </tr>\n",
              "    <tr>\n",
              "      <th>801</th>\n",
              "      <td>serviço</td>\n",
              "      <td>1.601900e-02</td>\n",
              "    </tr>\n",
              "    <tr>\n",
              "      <th>372</th>\n",
              "      <td>está</td>\n",
              "      <td>1.575082e-02</td>\n",
              "    </tr>\n",
              "    <tr>\n",
              "      <th>571</th>\n",
              "      <td>nova</td>\n",
              "      <td>1.562403e-02</td>\n",
              "    </tr>\n",
              "    <tr>\n",
              "      <th>526</th>\n",
              "      <td>meu</td>\n",
              "      <td>1.544862e-02</td>\n",
              "    </tr>\n",
              "    <tr>\n",
              "      <th>543</th>\n",
              "      <td>mudança</td>\n",
              "      <td>1.531852e-02</td>\n",
              "    </tr>\n",
              "    <tr>\n",
              "      <th>199</th>\n",
              "      <td>comprar</td>\n",
              "      <td>1.525707e-02</td>\n",
              "    </tr>\n",
              "    <tr>\n",
              "      <th>137</th>\n",
              "      <td>cancelamento</td>\n",
              "      <td>1.492656e-02</td>\n",
              "    </tr>\n",
              "    <tr>\n",
              "      <th>532</th>\n",
              "      <td>minha</td>\n",
              "      <td>1.458828e-02</td>\n",
              "    </tr>\n",
              "    <tr>\n",
              "      <th>556</th>\n",
              "      <td>na</td>\n",
              "      <td>1.280440e-02</td>\n",
              "    </tr>\n",
              "    <tr>\n",
              "      <th>881</th>\n",
              "      <td>transferência</td>\n",
              "      <td>1.129451e-02</td>\n",
              "    </tr>\n",
              "    <tr>\n",
              "      <th>409</th>\n",
              "      <td>fixo</td>\n",
              "      <td>1.002763e-02</td>\n",
              "    </tr>\n",
              "    <tr>\n",
              "      <th>844</th>\n",
              "      <td>telefônica</td>\n",
              "      <td>9.864501e-03</td>\n",
              "    </tr>\n",
              "    <tr>\n",
              "      <th>855</th>\n",
              "      <td>ter</td>\n",
              "      <td>9.489930e-03</td>\n",
              "    </tr>\n",
              "    <tr>\n",
              "      <th>374</th>\n",
              "      <td>eu</td>\n",
              "      <td>9.456810e-03</td>\n",
              "    </tr>\n",
              "    <tr>\n",
              "      <th>196</th>\n",
              "      <td>como</td>\n",
              "      <td>9.014910e-03</td>\n",
              "    </tr>\n",
              "    <tr>\n",
              "      <th>609</th>\n",
              "      <td>pagamento</td>\n",
              "      <td>8.947371e-03</td>\n",
              "    </tr>\n",
              "    <tr>\n",
              "      <th>193</th>\n",
              "      <td>com</td>\n",
              "      <td>8.416854e-03</td>\n",
              "    </tr>\n",
              "    <tr>\n",
              "      <th>247</th>\n",
              "      <td>da</td>\n",
              "      <td>8.344888e-03</td>\n",
              "    </tr>\n",
              "    <tr>\n",
              "      <th>686</th>\n",
              "      <td>produto</td>\n",
              "      <td>7.522132e-03</td>\n",
              "    </tr>\n",
              "    <tr>\n",
              "      <th>...</th>\n",
              "      <td>...</td>\n",
              "      <td>...</td>\n",
              "    </tr>\n",
              "    <tr>\n",
              "      <th>302</th>\n",
              "      <td>digitei</td>\n",
              "      <td>2.244415e-06</td>\n",
              "    </tr>\n",
              "    <tr>\n",
              "      <th>749</th>\n",
              "      <td>religado</td>\n",
              "      <td>2.201102e-06</td>\n",
              "    </tr>\n",
              "    <tr>\n",
              "      <th>709</th>\n",
              "      <td>quebrado</td>\n",
              "      <td>2.068239e-06</td>\n",
              "    </tr>\n",
              "    <tr>\n",
              "      <th>692</th>\n",
              "      <td>protocolo</td>\n",
              "      <td>2.045988e-06</td>\n",
              "    </tr>\n",
              "    <tr>\n",
              "      <th>937</th>\n",
              "      <td>voz</td>\n",
              "      <td>2.019733e-06</td>\n",
              "    </tr>\n",
              "    <tr>\n",
              "      <th>648</th>\n",
              "      <td>pessoa</td>\n",
              "      <td>1.935701e-06</td>\n",
              "    </tr>\n",
              "    <tr>\n",
              "      <th>15</th>\n",
              "      <td>acusa</td>\n",
              "      <td>1.787613e-06</td>\n",
              "    </tr>\n",
              "    <tr>\n",
              "      <th>258</th>\n",
              "      <td>defeitos</td>\n",
              "      <td>1.639292e-06</td>\n",
              "    </tr>\n",
              "    <tr>\n",
              "      <th>490</th>\n",
              "      <td>ligo</td>\n",
              "      <td>1.602249e-06</td>\n",
              "    </tr>\n",
              "    <tr>\n",
              "      <th>208</th>\n",
              "      <td>consegui</td>\n",
              "      <td>1.569685e-06</td>\n",
              "    </tr>\n",
              "    <tr>\n",
              "      <th>164</th>\n",
              "      <td>chamando</td>\n",
              "      <td>1.550934e-06</td>\n",
              "    </tr>\n",
              "    <tr>\n",
              "      <th>761</th>\n",
              "      <td>reserva</td>\n",
              "      <td>1.525640e-06</td>\n",
              "    </tr>\n",
              "    <tr>\n",
              "      <th>555</th>\n",
              "      <td>móvel</td>\n",
              "      <td>1.430151e-06</td>\n",
              "    </tr>\n",
              "    <tr>\n",
              "      <th>598</th>\n",
              "      <td>opção</td>\n",
              "      <td>1.401226e-06</td>\n",
              "    </tr>\n",
              "    <tr>\n",
              "      <th>854</th>\n",
              "      <td>tentar</td>\n",
              "      <td>1.284873e-06</td>\n",
              "    </tr>\n",
              "    <tr>\n",
              "      <th>74</th>\n",
              "      <td>arrumaram</td>\n",
              "      <td>1.182475e-06</td>\n",
              "    </tr>\n",
              "    <tr>\n",
              "      <th>876</th>\n",
              "      <td>toquinho</td>\n",
              "      <td>1.166901e-06</td>\n",
              "    </tr>\n",
              "    <tr>\n",
              "      <th>737</th>\n",
              "      <td>receber</td>\n",
              "      <td>9.942941e-07</td>\n",
              "    </tr>\n",
              "    <tr>\n",
              "      <th>305</th>\n",
              "      <td>direito</td>\n",
              "      <td>9.820206e-07</td>\n",
              "    </tr>\n",
              "    <tr>\n",
              "      <th>638</th>\n",
              "      <td>pediu</td>\n",
              "      <td>9.735041e-07</td>\n",
              "    </tr>\n",
              "    <tr>\n",
              "      <th>527</th>\n",
              "      <td>meus</td>\n",
              "      <td>8.216200e-07</td>\n",
              "    </tr>\n",
              "    <tr>\n",
              "      <th>90</th>\n",
              "      <td>ativo</td>\n",
              "      <td>7.841531e-07</td>\n",
              "    </tr>\n",
              "    <tr>\n",
              "      <th>870</th>\n",
              "      <td>tocando</td>\n",
              "      <td>7.733149e-07</td>\n",
              "    </tr>\n",
              "    <tr>\n",
              "      <th>194</th>\n",
              "      <td>comercial</td>\n",
              "      <td>7.252746e-07</td>\n",
              "    </tr>\n",
              "    <tr>\n",
              "      <th>790</th>\n",
              "      <td>segundo</td>\n",
              "      <td>5.248757e-07</td>\n",
              "    </tr>\n",
              "    <tr>\n",
              "      <th>104</th>\n",
              "      <td>barata</td>\n",
              "      <td>4.110600e-07</td>\n",
              "    </tr>\n",
              "    <tr>\n",
              "      <th>462</th>\n",
              "      <td>interurbano</td>\n",
              "      <td>2.702655e-07</td>\n",
              "    </tr>\n",
              "    <tr>\n",
              "      <th>441</th>\n",
              "      <td>identificar</td>\n",
              "      <td>2.508659e-07</td>\n",
              "    </tr>\n",
              "    <tr>\n",
              "      <th>553</th>\n",
              "      <td>mundança</td>\n",
              "      <td>2.459551e-07</td>\n",
              "    </tr>\n",
              "    <tr>\n",
              "      <th>306</th>\n",
              "      <td>disca</td>\n",
              "      <td>2.412502e-07</td>\n",
              "    </tr>\n",
              "  </tbody>\n",
              "</table>\n",
              "<p>663 rows × 2 columns</p>\n",
              "</div>"
            ],
            "text/plain": [
              "           feature    importance\n",
              "343       endereço  9.950727e-02\n",
              "222          conta  7.737364e-02\n",
              "494          linha  5.727825e-02\n",
              "141       cancelar  5.241463e-02\n",
              "899            uma  3.620010e-02\n",
              "841       telefone  3.457216e-02\n",
              "612          pagar  2.729175e-02\n",
              "255             de  2.665027e-02\n",
              "579            não  2.280409e-02\n",
              "715          quero  1.844360e-02\n",
              "756         reparo  1.690485e-02\n",
              "801        serviço  1.601900e-02\n",
              "372           está  1.575082e-02\n",
              "571           nova  1.562403e-02\n",
              "526            meu  1.544862e-02\n",
              "543        mudança  1.531852e-02\n",
              "199        comprar  1.525707e-02\n",
              "137   cancelamento  1.492656e-02\n",
              "532          minha  1.458828e-02\n",
              "556             na  1.280440e-02\n",
              "881  transferência  1.129451e-02\n",
              "409           fixo  1.002763e-02\n",
              "844     telefônica  9.864501e-03\n",
              "855            ter  9.489930e-03\n",
              "374             eu  9.456810e-03\n",
              "196           como  9.014910e-03\n",
              "609      pagamento  8.947371e-03\n",
              "193            com  8.416854e-03\n",
              "247             da  8.344888e-03\n",
              "686        produto  7.522132e-03\n",
              "..             ...           ...\n",
              "302        digitei  2.244415e-06\n",
              "749       religado  2.201102e-06\n",
              "709       quebrado  2.068239e-06\n",
              "692      protocolo  2.045988e-06\n",
              "937            voz  2.019733e-06\n",
              "648         pessoa  1.935701e-06\n",
              "15           acusa  1.787613e-06\n",
              "258       defeitos  1.639292e-06\n",
              "490           ligo  1.602249e-06\n",
              "208       consegui  1.569685e-06\n",
              "164       chamando  1.550934e-06\n",
              "761        reserva  1.525640e-06\n",
              "555          móvel  1.430151e-06\n",
              "598          opção  1.401226e-06\n",
              "854         tentar  1.284873e-06\n",
              "74       arrumaram  1.182475e-06\n",
              "876       toquinho  1.166901e-06\n",
              "737        receber  9.942941e-07\n",
              "305        direito  9.820206e-07\n",
              "638          pediu  9.735041e-07\n",
              "527           meus  8.216200e-07\n",
              "90           ativo  7.841531e-07\n",
              "870        tocando  7.733149e-07\n",
              "194      comercial  7.252746e-07\n",
              "790        segundo  5.248757e-07\n",
              "104         barata  4.110600e-07\n",
              "462    interurbano  2.702655e-07\n",
              "441    identificar  2.508659e-07\n",
              "553       mundança  2.459551e-07\n",
              "306          disca  2.412502e-07\n",
              "\n",
              "[663 rows x 2 columns]"
            ]
          },
          "metadata": {
            "tags": []
          },
          "execution_count": 57
        }
      ]
    },
    {
      "metadata": {
        "colab_type": "code",
        "id": "d-fcFyWIcviQ",
        "colab": {
          "base_uri": "https://localhost:8080/",
          "height": 269
        },
        "outputId": "1634f309-1dd6-4f16-a47f-afcfaaf481c9"
      },
      "cell_type": "code",
      "source": [
        "df_importance.set_index('feature').plot.barh()\n",
        "plt.gca().invert_yaxis()"
      ],
      "execution_count": 58,
      "outputs": [
        {
          "output_type": "display_data",
          "data": {
            "image/png": "[encoded data removed]",
            "text/plain": [
              "<Figure size 432x288 with 1 Axes>"
            ]
          },
          "metadata": {
            "tags": []
          }
        }
      ]
    },
    {
      "metadata": {
        "colab_type": "code",
        "id": "2B8ltlpZcviS",
        "colab": {
          "base_uri": "https://localhost:8080/",
          "height": 586
        },
        "outputId": "8ff84f00-1054-48e6-8eea-db1856d3f367"
      },
      "cell_type": "code",
      "source": [
        "# Load df test\n",
        "#\n",
        "\n",
        "df_valid = pd.read_csv('https://storage.googleapis.com/ms_geral/fasam_algoritmo_supervisionado/taggin/df_valid.csv')\n",
        "X_test   = df_valid['frase']\n",
        "y_test   = df_valid.tag\n",
        "\n",
        "# Predict\n",
        "y_pred = model.predict(X_test)\n",
        "\n",
        "# Plot non-normalized confusion matrix\n",
        "plot_confusion_matrix(y_test, y_pred, classes=class_names,normalize=True,\n",
        "                      title='Confusion matrix')"
      ],
      "execution_count": 59,
      "outputs": [
        {
          "output_type": "stream",
          "text": [
            "Normalized confusion matrix\n"
          ],
          "name": "stdout"
        },
        {
          "output_type": "execute_result",
          "data": {
            "text/plain": [
              "<matplotlib.axes._subplots.AxesSubplot at 0x7f8e4975b860>"
            ]
          },
          "metadata": {
            "tags": []
          },
          "execution_count": 59
        },
        {
          "output_type": "display_data",
          "data": {
            "image/png": "[encoded data removed]",
            "text/plain": [
              "<Figure size 576x576 with 2 Axes>"
            ]
          },
          "metadata": {
            "tags": []
          }
        }
      ]
    },
    {
      "metadata": {
        "colab_type": "code",
        "id": "4LXkgeQGcviV",
        "colab": {
          "base_uri": "https://localhost:8080/",
          "height": 34
        },
        "outputId": "c4dc629a-0221-43d8-ecbb-4121777a896b"
      },
      "cell_type": "code",
      "source": [
        "from sklearn.metrics import f1_score\n",
        "\n",
        "print(\"F1-Score: \", f1_score(y_test, y_pred, average='weighted'))"
      ],
      "execution_count": 60,
      "outputs": [
        {
          "output_type": "stream",
          "text": [
            "F1-Score:  0.9337328025292028\n"
          ],
          "name": "stdout"
        }
      ]
    },
    {
      "metadata": {
        "colab_type": "text",
        "id": "04xVInTfcvia"
      },
      "cell_type": "markdown",
      "source": [
        "## Atividades\n",
        "\n",
        "Desenvolve as atividades:\n",
        "\n",
        "* Otimize os parâmetros do modelo e encontre o melhor F1-Score\n",
        "* Escolha um Setor qualquer e analise as principais features relacionadas a esse setor\n",
        "* Salve o modelo no disco "
      ]
    },
    {
      "metadata": {
        "colab_type": "text",
        "id": "OnfCYyuFcvia"
      },
      "cell_type": "markdown",
      "source": [
        "### Otimize os parâmetros do modelo e encontre o melhor F1-Score\n",
        "\n",
        "* Altere as parametrizações do gerador de token\n",
        "* Modifique o classificador e encontre a melhor parametrização"
      ]
    },
    {
      "metadata": {
        "colab_type": "code",
        "id": "OTpgtWMmcvib",
        "outputId": "618688be-ed32-4f89-f2d6-b9ea295cced6",
        "colab": {
          "base_uri": "https://localhost:8080/",
          "height": 34
        }
      },
      "cell_type": "code",
      "source": [
        "# 'clf__max_depth': 1000, 'clf__n_estimators': 16, 'tfidf__max_features': 2000\n",
        "# 0.9173785249674713\n",
        "# 0.9337328025292028\n",
        "from sklearn.metrics import f1_score\n",
        "\n",
        "print(\"F1-Score: \", f1_score(y_test, y_pred, average='weighted'))"
      ],
      "execution_count": 61,
      "outputs": [
        {
          "output_type": "stream",
          "text": [
            "F1-Score:  0.9337328025292028\n"
          ],
          "name": "stdout"
        }
      ]
    },
    {
      "metadata": {
        "colab_type": "text",
        "id": "1ERHaTqecvid"
      },
      "cell_type": "markdown",
      "source": [
        "### Escolha uma Tag/Setor qualquer e analise as principais features relacionadas a esse setor. \n",
        "\n",
        "* Interprete a árvore para chegar na conclusão\n",
        "* "
      ]
    },
    {
      "metadata": {
        "colab_type": "code",
        "id": "-oC84IJ3cvie",
        "colab": {}
      },
      "cell_type": "code",
      "source": [
        "# -------------------"
      ],
      "execution_count": 0,
      "outputs": []
    },
    {
      "metadata": {
        "id": "dcF-xQNt8RxD",
        "colab_type": "text"
      },
      "cell_type": "markdown",
      "source": [
        ""
      ]
    },
    {
      "metadata": {
        "colab_type": "text",
        "id": "3K6AtBUScvii"
      },
      "cell_type": "markdown",
      "source": [
        "### Salve o modelo no disco \n",
        "\n",
        "* https://scikit-learn.org/stable/modules/model_persistence.html"
      ]
    },
    {
      "metadata": {
        "colab_type": "code",
        "id": "3bh5kB6Icvii",
        "colab": {}
      },
      "cell_type": "code",
      "source": [
        "from joblib import dump, load"
      ],
      "execution_count": 0,
      "outputs": []
    },
    {
      "metadata": {
        "colab_type": "code",
        "id": "4kavKJNZcvil",
        "colab": {}
      },
      "cell_type": "code",
      "source": [
        "joblib.dump(model, 'model.joblib')"
      ],
      "execution_count": 0,
      "outputs": []
    },
    {
      "metadata": {
        "colab_type": "code",
        "id": "c5_PvEF8cvin",
        "colab": {}
      },
      "cell_type": "code",
      "source": [
        "loaded_model = joblib.load('model.joblib')"
      ],
      "execution_count": 0,
      "outputs": []
    },
    {
      "metadata": {
        "colab_type": "text",
        "id": "mfpKUg-mcviv"
      },
      "cell_type": "markdown",
      "source": [
        "## Referências e Links complementares\n",
        "\n",
        "* https://medium.com/botsbrasil/o-que-%C3%A9-o-processamento-de-linguagem-natural-49ece9371cff\n",
        "* https://towardsdatascience.com/multi-class-text-classification-with-scikit-learn-12f1e60e0a9f\n",
        "* https://towardsdatascience.com/multi-label-text-classification-with-scikit-learn-30714b7819c5\n",
        "* https://stackabuse.com/text-classification-with-python-and-scikit-learn/\n",
        "* https://www.analyticsvidhya.com/blog/2018/04/a-comprehensive-guide-to-understand-and-implement-text-classification-in-python/"
      ]
    },
    {
      "metadata": {
        "colab_type": "code",
        "id": "bOfiAfVIfalj",
        "colab": {}
      },
      "cell_type": "code",
      "source": [
        ""
      ],
      "execution_count": 0,
      "outputs": []
    }
  ]
}